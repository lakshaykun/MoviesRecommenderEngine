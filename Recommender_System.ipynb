{
  "nbformat": 4,
  "nbformat_minor": 0,
  "metadata": {
    "colab": {
      "provenance": [],
      "mount_file_id": "1t_QqZfhxGck3SUYN9RDuyMjhNGTCgreD",
      "authorship_tag": "ABX9TyOZIsxhwN/qWQOB6gyQ4X02",
      "include_colab_link": true
    },
    "kernelspec": {
      "name": "python3",
      "display_name": "Python 3"
    },
    "language_info": {
      "name": "python"
    }
  },
  "cells": [
    {
      "cell_type": "markdown",
      "metadata": {
        "id": "view-in-github",
        "colab_type": "text"
      },
      "source": [
        "<a href=\"https://colab.research.google.com/github/lakshaykun/Recommender_System/blob/main/Recommender_System.ipynb\" target=\"_parent\"><img src=\"https://colab.research.google.com/assets/colab-badge.svg\" alt=\"Open In Colab\"/></a>"
      ]
    },
    {
      "cell_type": "markdown",
      "source": [
        "# Importing Libraries"
      ],
      "metadata": {
        "id": "32gWmq3K9tCx"
      }
    },
    {
      "cell_type": "code",
      "execution_count": null,
      "metadata": {
        "id": "4Xeim63259lg"
      },
      "outputs": [],
      "source": [
        "import pandas as pd\n",
        "import numpy as np\n",
        "import ast"
      ]
    },
    {
      "cell_type": "markdown",
      "source": [
        "#Importing Dataset"
      ],
      "metadata": {
        "id": "Tud3AD2x7B4x"
      }
    },
    {
      "cell_type": "code",
      "source": [
        "movies = pd.read_csv('/content/drive/MyDrive/Datasets/tmdb_5000_movies.csv')\n",
        "credits = pd.read_csv('/content/drive/MyDrive/Datasets/tmdb_5000_credits.csv')"
      ],
      "metadata": {
        "id": "47U4naDK91kN"
      },
      "execution_count": null,
      "outputs": []
    },
    {
      "cell_type": "code",
      "source": [
        "movies = movies[['genres', 'id', 'keywords', 'original_title', 'overview', 'popularity', 'release_date', 'revenue', 'tagline', 'title', 'vote_average']]"
      ],
      "metadata": {
        "id": "g4aIw8ZxICYP"
      },
      "execution_count": null,
      "outputs": []
    },
    {
      "cell_type": "code",
      "source": [
        "df = movies.merge(credits)"
      ],
      "metadata": {
        "id": "oQHWHKhz53DJ"
      },
      "execution_count": null,
      "outputs": []
    },
    {
      "cell_type": "markdown",
      "source": [
        "# Data Preprocessing"
      ],
      "metadata": {
        "id": "vo7WsZkI7Hne"
      }
    },
    {
      "cell_type": "code",
      "source": [
        "df.isnull().sum()"
      ],
      "metadata": {
        "colab": {
          "base_uri": "https://localhost:8080/"
        },
        "id": "qpvJ8nXhvpEd",
        "outputId": "460107da-5ea8-456c-d52b-91c0851a3cb4"
      },
      "execution_count": null,
      "outputs": [
        {
          "output_type": "execute_result",
          "data": {
            "text/plain": [
              "genres              0\n",
              "id                  0\n",
              "keywords            0\n",
              "original_title      0\n",
              "overview            3\n",
              "popularity          0\n",
              "release_date        1\n",
              "revenue             0\n",
              "tagline           844\n",
              "title               0\n",
              "vote_average        0\n",
              "movie_id            0\n",
              "cast                0\n",
              "crew                0\n",
              "dtype: int64"
            ]
          },
          "metadata": {},
          "execution_count": 80
        }
      ]
    },
    {
      "cell_type": "code",
      "source": [
        "def fetch_keys(obj):\n",
        "  L = ''\n",
        "  for i in ast.literal_eval(obj):\n",
        "    L += i['name'] + ' '\n",
        "  return L\n",
        "\n",
        "def fetch_cast(obj):\n",
        "  L = []\n",
        "  counter = 0\n",
        "  for i in ast.literal_eval(obj):\n",
        "    if counter != 3:\n",
        "      L.append(i['id'])\n",
        "      counter += 1\n",
        "    else:\n",
        "      break\n",
        "  return L\n",
        "\n",
        "def fetch_time(obj):\n",
        "  try:\n",
        "    yr = ast.literal_eval(obj[:4])\n",
        "    if yr > 2000:\n",
        "      return 2\n",
        "    else:\n",
        "      return 1\n",
        "  except:\n",
        "    return 1.5\n",
        "\n",
        "def fetch_dir(obj):\n",
        "  for i in ast.literal_eval(obj):\n",
        "    if i['job'] == 'Director':\n",
        "      return i[\"id\"]"
      ],
      "metadata": {
        "id": "RI5aRBT38V_w"
      },
      "execution_count": null,
      "outputs": []
    },
    {
      "cell_type": "code",
      "source": [
        "df['genres'] = df['genres'].apply(fetch_keys)\n",
        "df['keywords'] = df['keywords'].apply(fetch_keys)\n",
        "df['cast'] = df['cast'].apply(fetch_cast)\n",
        "df['release_date'] = df['release_date'].apply(fetch_time)\n",
        "df['crew'] = df['crew'].apply(fetch_dir)"
      ],
      "metadata": {
        "id": "c8vd3bhR-UTr"
      },
      "execution_count": null,
      "outputs": []
    },
    {
      "cell_type": "code",
      "source": [
        "df['overview'] = df['overview'].fillna('')\n",
        "df['tagline'] = df['tagline'].fillna('')\n",
        "df['crew'] = df['crew'].fillna(0)"
      ],
      "metadata": {
        "id": "8JorY7D5r8uK"
      },
      "execution_count": null,
      "outputs": []
    },
    {
      "cell_type": "code",
      "source": [
        "df['tags'] = df['genres'] + ' ' + df['keywords'] + ' ' + df['original_title'] + ' ' + df['overview'] + ' ' + df['tagline']"
      ],
      "metadata": {
        "id": "G1f5TpUgj6q1"
      },
      "execution_count": null,
      "outputs": []
    },
    {
      "cell_type": "code",
      "source": [
        "new_df = df[['id', 'title', 'tags', 'popularity', 'release_date', 'revenue', 'vote_average', 'cast', 'crew']]"
      ],
      "metadata": {
        "id": "SHe_rZzltIFh"
      },
      "execution_count": null,
      "outputs": []
    },
    {
      "cell_type": "code",
      "source": [
        "def process_text(obj):\n",
        "  import re\n",
        "  from nltk.stem.porter import PorterStemmer\n",
        "  obj = re.sub('[^a-zA-Z]', ' ', obj)\n",
        "  obj = obj.lower()\n",
        "  obj = obj.split()\n",
        "  ps = PorterStemmer()\n",
        "  obj = [ps.stem(i) for i in obj]\n",
        "  obj = ' '.join(obj)\n",
        "  return obj\n",
        "\n",
        "new_df['tags'] = new_df['tags'].apply(process_text)"
      ],
      "metadata": {
        "colab": {
          "base_uri": "https://localhost:8080/"
        },
        "id": "JZL_eBfrvqVr",
        "outputId": "146bff17-eb56-4f2e-d628-d83956c5cef3"
      },
      "execution_count": null,
      "outputs": [
        {
          "output_type": "stream",
          "name": "stderr",
          "text": [
            "<ipython-input-14-bbb097db2822>:12: SettingWithCopyWarning: \n",
            "A value is trying to be set on a copy of a slice from a DataFrame.\n",
            "Try using .loc[row_indexer,col_indexer] = value instead\n",
            "\n",
            "See the caveats in the documentation: https://pandas.pydata.org/pandas-docs/stable/user_guide/indexing.html#returning-a-view-versus-a-copy\n",
            "  new_df['tags'] = new_df['tags'].apply(process_text)\n"
          ]
        }
      ]
    },
    {
      "cell_type": "code",
      "source": [
        "def extraction(obj):\n",
        "  global i\n",
        "  try:\n",
        "    return obj[i]\n",
        "  except:\n",
        "    return 0"
      ],
      "metadata": {
        "id": "hh46CXTc4Iq4"
      },
      "execution_count": null,
      "outputs": []
    },
    {
      "cell_type": "code",
      "source": [
        "for i in range(3):\n",
        "  new_df[f'cast_{i}'] = new_df['cast'].apply(extraction)"
      ],
      "metadata": {
        "colab": {
          "base_uri": "https://localhost:8080/"
        },
        "id": "81EtVSqGz1Yf",
        "outputId": "e1c4fd0d-dcab-488c-fb3f-e0333b42182d"
      },
      "execution_count": null,
      "outputs": [
        {
          "output_type": "stream",
          "name": "stderr",
          "text": [
            "<ipython-input-17-a12932b82964>:2: SettingWithCopyWarning: \n",
            "A value is trying to be set on a copy of a slice from a DataFrame.\n",
            "Try using .loc[row_indexer,col_indexer] = value instead\n",
            "\n",
            "See the caveats in the documentation: https://pandas.pydata.org/pandas-docs/stable/user_guide/indexing.html#returning-a-view-versus-a-copy\n",
            "  new_df[f'cast_{i}'] = new_df['cast'].apply(extraction)\n",
            "<ipython-input-17-a12932b82964>:2: SettingWithCopyWarning: \n",
            "A value is trying to be set on a copy of a slice from a DataFrame.\n",
            "Try using .loc[row_indexer,col_indexer] = value instead\n",
            "\n",
            "See the caveats in the documentation: https://pandas.pydata.org/pandas-docs/stable/user_guide/indexing.html#returning-a-view-versus-a-copy\n",
            "  new_df[f'cast_{i}'] = new_df['cast'].apply(extraction)\n",
            "<ipython-input-17-a12932b82964>:2: SettingWithCopyWarning: \n",
            "A value is trying to be set on a copy of a slice from a DataFrame.\n",
            "Try using .loc[row_indexer,col_indexer] = value instead\n",
            "\n",
            "See the caveats in the documentation: https://pandas.pydata.org/pandas-docs/stable/user_guide/indexing.html#returning-a-view-versus-a-copy\n",
            "  new_df[f'cast_{i}'] = new_df['cast'].apply(extraction)\n"
          ]
        }
      ]
    },
    {
      "cell_type": "code",
      "source": [
        "from sklearn.preprocessing import Normalizer\n",
        "sc = Normalizer()\n",
        "new_df[['popularity', 'release_date', 'revenue', 'vote_average', 'crew', 'cast_0', 'cast_1', 'cast_2']] = sc.fit_transform(new_df[['popularity', 'release_date', 'revenue', 'vote_average', 'crew', 'cast_0', 'cast_1', 'cast_2']])"
      ],
      "metadata": {
        "colab": {
          "base_uri": "https://localhost:8080/"
        },
        "id": "QijB5IRJQC5r",
        "outputId": "0eef6725-3793-4bc5-e36a-aafae6379d17"
      },
      "execution_count": null,
      "outputs": [
        {
          "output_type": "stream",
          "name": "stderr",
          "text": [
            "<ipython-input-19-49c0f37aaad4>:3: SettingWithCopyWarning: \n",
            "A value is trying to be set on a copy of a slice from a DataFrame.\n",
            "Try using .loc[row_indexer,col_indexer] = value instead\n",
            "\n",
            "See the caveats in the documentation: https://pandas.pydata.org/pandas-docs/stable/user_guide/indexing.html#returning-a-view-versus-a-copy\n",
            "  new_df[['popularity', 'release_date', 'revenue', 'vote_average', 'crew', 'cast_0', 'cast_1', 'cast_2']] = sc.fit_transform(new_df[['popularity', 'release_date', 'revenue', 'vote_average', 'crew', 'cast_0', 'cast_1', 'cast_2']])\n"
          ]
        }
      ]
    },
    {
      "cell_type": "code",
      "source": [
        "df.head(1)"
      ],
      "metadata": {
        "colab": {
          "base_uri": "https://localhost:8080/",
          "height": 222
        },
        "id": "S3y47Mtdw5Uq",
        "outputId": "b40f00c5-ed7e-48a8-83d0-c05ae0d32520"
      },
      "execution_count": null,
      "outputs": [
        {
          "output_type": "execute_result",
          "data": {
            "text/plain": [
              "                                      genres     id  \\\n",
              "0  Action Adventure Fantasy Science Fiction   19995   \n",
              "\n",
              "                                            keywords original_title  \\\n",
              "0  culture clash future space war space colony so...         Avatar   \n",
              "\n",
              "                                            overview  popularity  \\\n",
              "0  In the 22nd century, a paraplegic Marine is di...  150.437577   \n",
              "\n",
              "   release_date     revenue                      tagline   title  \\\n",
              "0           2.0  2787965087  Enter the World of Pandora.  Avatar   \n",
              "\n",
              "   vote_average  movie_id                  cast    crew  \\\n",
              "0           7.2     19995  [65731, 8691, 10205]  2710.0   \n",
              "\n",
              "                                                tags  \n",
              "0  Action Adventure Fantasy Science Fiction  cult...  "
            ],
            "text/html": [
              "\n",
              "  <div id=\"df-f8acc65b-aa93-4cd6-9a72-55ca2f9b77f8\" class=\"colab-df-container\">\n",
              "    <div>\n",
              "<style scoped>\n",
              "    .dataframe tbody tr th:only-of-type {\n",
              "        vertical-align: middle;\n",
              "    }\n",
              "\n",
              "    .dataframe tbody tr th {\n",
              "        vertical-align: top;\n",
              "    }\n",
              "\n",
              "    .dataframe thead th {\n",
              "        text-align: right;\n",
              "    }\n",
              "</style>\n",
              "<table border=\"1\" class=\"dataframe\">\n",
              "  <thead>\n",
              "    <tr style=\"text-align: right;\">\n",
              "      <th></th>\n",
              "      <th>genres</th>\n",
              "      <th>id</th>\n",
              "      <th>keywords</th>\n",
              "      <th>original_title</th>\n",
              "      <th>overview</th>\n",
              "      <th>popularity</th>\n",
              "      <th>release_date</th>\n",
              "      <th>revenue</th>\n",
              "      <th>tagline</th>\n",
              "      <th>title</th>\n",
              "      <th>vote_average</th>\n",
              "      <th>movie_id</th>\n",
              "      <th>cast</th>\n",
              "      <th>crew</th>\n",
              "      <th>tags</th>\n",
              "    </tr>\n",
              "  </thead>\n",
              "  <tbody>\n",
              "    <tr>\n",
              "      <th>0</th>\n",
              "      <td>Action Adventure Fantasy Science Fiction</td>\n",
              "      <td>19995</td>\n",
              "      <td>culture clash future space war space colony so...</td>\n",
              "      <td>Avatar</td>\n",
              "      <td>In the 22nd century, a paraplegic Marine is di...</td>\n",
              "      <td>150.437577</td>\n",
              "      <td>2.0</td>\n",
              "      <td>2787965087</td>\n",
              "      <td>Enter the World of Pandora.</td>\n",
              "      <td>Avatar</td>\n",
              "      <td>7.2</td>\n",
              "      <td>19995</td>\n",
              "      <td>[65731, 8691, 10205]</td>\n",
              "      <td>2710.0</td>\n",
              "      <td>Action Adventure Fantasy Science Fiction  cult...</td>\n",
              "    </tr>\n",
              "  </tbody>\n",
              "</table>\n",
              "</div>\n",
              "    <div class=\"colab-df-buttons\">\n",
              "\n",
              "  <div class=\"colab-df-container\">\n",
              "    <button class=\"colab-df-convert\" onclick=\"convertToInteractive('df-f8acc65b-aa93-4cd6-9a72-55ca2f9b77f8')\"\n",
              "            title=\"Convert this dataframe to an interactive table.\"\n",
              "            style=\"display:none;\">\n",
              "\n",
              "  <svg xmlns=\"http://www.w3.org/2000/svg\" height=\"24px\" viewBox=\"0 -960 960 960\">\n",
              "    <path d=\"M120-120v-720h720v720H120Zm60-500h600v-160H180v160Zm220 220h160v-160H400v160Zm0 220h160v-160H400v160ZM180-400h160v-160H180v160Zm440 0h160v-160H620v160ZM180-180h160v-160H180v160Zm440 0h160v-160H620v160Z\"/>\n",
              "  </svg>\n",
              "    </button>\n",
              "\n",
              "  <style>\n",
              "    .colab-df-container {\n",
              "      display:flex;\n",
              "      gap: 12px;\n",
              "    }\n",
              "\n",
              "    .colab-df-convert {\n",
              "      background-color: #E8F0FE;\n",
              "      border: none;\n",
              "      border-radius: 50%;\n",
              "      cursor: pointer;\n",
              "      display: none;\n",
              "      fill: #1967D2;\n",
              "      height: 32px;\n",
              "      padding: 0 0 0 0;\n",
              "      width: 32px;\n",
              "    }\n",
              "\n",
              "    .colab-df-convert:hover {\n",
              "      background-color: #E2EBFA;\n",
              "      box-shadow: 0px 1px 2px rgba(60, 64, 67, 0.3), 0px 1px 3px 1px rgba(60, 64, 67, 0.15);\n",
              "      fill: #174EA6;\n",
              "    }\n",
              "\n",
              "    .colab-df-buttons div {\n",
              "      margin-bottom: 4px;\n",
              "    }\n",
              "\n",
              "    [theme=dark] .colab-df-convert {\n",
              "      background-color: #3B4455;\n",
              "      fill: #D2E3FC;\n",
              "    }\n",
              "\n",
              "    [theme=dark] .colab-df-convert:hover {\n",
              "      background-color: #434B5C;\n",
              "      box-shadow: 0px 1px 3px 1px rgba(0, 0, 0, 0.15);\n",
              "      filter: drop-shadow(0px 1px 2px rgba(0, 0, 0, 0.3));\n",
              "      fill: #FFFFFF;\n",
              "    }\n",
              "  </style>\n",
              "\n",
              "    <script>\n",
              "      const buttonEl =\n",
              "        document.querySelector('#df-f8acc65b-aa93-4cd6-9a72-55ca2f9b77f8 button.colab-df-convert');\n",
              "      buttonEl.style.display =\n",
              "        google.colab.kernel.accessAllowed ? 'block' : 'none';\n",
              "\n",
              "      async function convertToInteractive(key) {\n",
              "        const element = document.querySelector('#df-f8acc65b-aa93-4cd6-9a72-55ca2f9b77f8');\n",
              "        const dataTable =\n",
              "          await google.colab.kernel.invokeFunction('convertToInteractive',\n",
              "                                                    [key], {});\n",
              "        if (!dataTable) return;\n",
              "\n",
              "        const docLinkHtml = 'Like what you see? Visit the ' +\n",
              "          '<a target=\"_blank\" href=https://colab.research.google.com/notebooks/data_table.ipynb>data table notebook</a>'\n",
              "          + ' to learn more about interactive tables.';\n",
              "        element.innerHTML = '';\n",
              "        dataTable['output_type'] = 'display_data';\n",
              "        await google.colab.output.renderOutput(dataTable, element);\n",
              "        const docLink = document.createElement('div');\n",
              "        docLink.innerHTML = docLinkHtml;\n",
              "        element.appendChild(docLink);\n",
              "      }\n",
              "    </script>\n",
              "  </div>\n",
              "\n",
              "\n",
              "    </div>\n",
              "  </div>\n"
            ],
            "application/vnd.google.colaboratory.intrinsic+json": {
              "type": "dataframe",
              "variable_name": "df",
              "summary": "{\n  \"name\": \"df\",\n  \"rows\": 4809,\n  \"fields\": [\n    {\n      \"column\": \"genres\",\n      \"properties\": {\n        \"dtype\": \"category\",\n        \"num_unique_values\": 1175,\n        \"samples\": [\n          \"Fantasy Drama Action Thriller Romance \",\n          \"Action Comedy Crime Drama \",\n          \"Adventure Animation Family Fantasy Science Fiction \"\n        ],\n        \"semantic_type\": \"\",\n        \"description\": \"\"\n      }\n    },\n    {\n      \"column\": \"id\",\n      \"properties\": {\n        \"dtype\": \"number\",\n        \"std\": 88653,\n        \"min\": 5,\n        \"max\": 459488,\n        \"num_unique_values\": 4803,\n        \"samples\": [\n          8427,\n          15581,\n          2013\n        ],\n        \"semantic_type\": \"\",\n        \"description\": \"\"\n      }\n    },\n    {\n      \"column\": \"keywords\",\n      \"properties\": {\n        \"dtype\": \"string\",\n        \"num_unique_values\": 4222,\n        \"samples\": [\n          \"assassin loss of father secret society mission of murder revenge \",\n          \"gang war victim of murder greed hostility spaghetti western \",\n          \"mississippi based on novel exploitation racial segregation racism writer maid moral courage ressentiment southern belle racial issues 1960s newspaper columnist \"\n        ],\n        \"semantic_type\": \"\",\n        \"description\": \"\"\n      }\n    },\n    {\n      \"column\": \"original_title\",\n      \"properties\": {\n        \"dtype\": \"string\",\n        \"num_unique_values\": 4801,\n        \"samples\": [\n          \"I Spy\",\n          \"Love Letters\",\n          \"Sleepover\"\n        ],\n        \"semantic_type\": \"\",\n        \"description\": \"\"\n      }\n    },\n    {\n      \"column\": \"overview\",\n      \"properties\": {\n        \"dtype\": \"string\",\n        \"num_unique_values\": 4801,\n        \"samples\": [\n          \"When the Switchblade, the most sophisticated prototype stealth fighter created yet, is stolen from the U.S. government, one of the United States' top spies, Alex Scott, is called to action. What he doesn't expect is to get teamed up with a cocky civilian, World Class Boxing Champion Kelly Robinson, on a dangerous top secret espionage mission. Their assignment: using equal parts skill and humor, catch Arnold Gundars, one of the world's most successful arms dealers.\",\n          \"A story of love and obsession. A young radio personality who, after her mother dies, discovers she had been having a love affair for 15 years. Now she finds herself recreating her mother's romance by getting involved with a married man.\",\n          \"Kyle Fisher has one last night to celebrate life as a single man before marrying Laura, so he sets out to Vegas with four of his best buddies. But a drug and alcohol filled night on the town with a stripper who goes all the way, turns into a cold night in the desert with shovels when the stripper goes all the way into a body bag after dying in their bathroom. And that's just the first of the bodies to pile up before Kyle can walk down the aisle...\"\n        ],\n        \"semantic_type\": \"\",\n        \"description\": \"\"\n      }\n    },\n    {\n      \"column\": \"popularity\",\n      \"properties\": {\n        \"dtype\": \"number\",\n        \"std\": 31.80336627696096,\n        \"min\": 0.0,\n        \"max\": 875.581305,\n        \"num_unique_values\": 4802,\n        \"samples\": [\n          13.267631,\n          0.010909,\n          5.671691\n        ],\n        \"semantic_type\": \"\",\n        \"description\": \"\"\n      }\n    },\n    {\n      \"column\": \"release_date\",\n      \"properties\": {\n        \"dtype\": \"number\",\n        \"std\": 0.4613398729854519,\n        \"min\": 1.0,\n        \"max\": 2.0,\n        \"num_unique_values\": 3,\n        \"samples\": [\n          2.0,\n          1.0,\n          1.5\n        ],\n        \"semantic_type\": \"\",\n        \"description\": \"\"\n      }\n    },\n    {\n      \"column\": \"revenue\",\n      \"properties\": {\n        \"dtype\": \"number\",\n        \"std\": 162837854,\n        \"min\": 0,\n        \"max\": 2787965087,\n        \"num_unique_values\": 3297,\n        \"samples\": [\n          11833696,\n          10462500,\n          56255142\n        ],\n        \"semantic_type\": \"\",\n        \"description\": \"\"\n      }\n    },\n    {\n      \"column\": \"tagline\",\n      \"properties\": {\n        \"dtype\": \"string\",\n        \"num_unique_values\": 3945,\n        \"samples\": [\n          \"When you're 17, every day is war.\",\n          \"No animals were harmed in the making of this movie. 70 members of the cast and crew were.\",\n          \"To save a nations future, they must protect one man from its past.\"\n        ],\n        \"semantic_type\": \"\",\n        \"description\": \"\"\n      }\n    },\n    {\n      \"column\": \"title\",\n      \"properties\": {\n        \"dtype\": \"string\",\n        \"num_unique_values\": 4800,\n        \"samples\": [\n          \"I Spy\",\n          \"Who's Your Caddy?\",\n          \"Sleepover\"\n        ],\n        \"semantic_type\": \"\",\n        \"description\": \"\"\n      }\n    },\n    {\n      \"column\": \"vote_average\",\n      \"properties\": {\n        \"dtype\": \"number\",\n        \"std\": 1.1939889053481787,\n        \"min\": 0.0,\n        \"max\": 10.0,\n        \"num_unique_values\": 71,\n        \"samples\": [\n          5.1,\n          7.2,\n          4.0\n        ],\n        \"semantic_type\": \"\",\n        \"description\": \"\"\n      }\n    },\n    {\n      \"column\": \"movie_id\",\n      \"properties\": {\n        \"dtype\": \"number\",\n        \"std\": 88653,\n        \"min\": 5,\n        \"max\": 459488,\n        \"num_unique_values\": 4803,\n        \"samples\": [\n          8427,\n          15581,\n          2013\n        ],\n        \"semantic_type\": \"\",\n        \"description\": \"\"\n      }\n    },\n    {\n      \"column\": \"cast\",\n      \"properties\": {\n        \"dtype\": \"object\",\n        \"semantic_type\": \"\",\n        \"description\": \"\"\n      }\n    },\n    {\n      \"column\": \"crew\",\n      \"properties\": {\n        \"dtype\": \"number\",\n        \"std\": 279193.05610291293,\n        \"min\": 0.0,\n        \"max\": 1867383.0,\n        \"num_unique_values\": 2350,\n        \"samples\": [\n          1214860.0,\n          57581.0,\n          143430.0\n        ],\n        \"semantic_type\": \"\",\n        \"description\": \"\"\n      }\n    },\n    {\n      \"column\": \"tags\",\n      \"properties\": {\n        \"dtype\": \"string\",\n        \"num_unique_values\": 4803,\n        \"samples\": [\n          \"Action Adventure Comedy Thriller  budapest kidnapping boxer secret agent liberation of hostage hostage-taking woman director  I Spy When the Switchblade, the most sophisticated prototype stealth fighter created yet, is stolen from the U.S. government, one of the United States' top spies, Alex Scott, is called to action. What he doesn't expect is to get teamed up with a cocky civilian, World Class Boxing Champion Kelly Robinson, on a dangerous top secret espionage mission. Their assignment: using equal parts skill and humor, catch Arnold Gundars, one of the world's most successful arms dealers. Attitude meets espionage.\",\n          \"Comedy  sport  Who's Your Caddy? When \\\"street smart\\\" rapper Christopher \\\"C-Note\\\" Hawkins (Big Boi) applies for a membership to all-white Carolina Pines Country Club, the establishment's proprietors are hardly ready to oblige him. \",\n          \"Drama  writing lover (female) psychological stress dying and death editor-in-chief french independent film patient disabled  Le scaphandre et le papillon Elle France editor Jean-Dominique Bauby, who, in 1995 at the age of 43, suffered a stroke that paralyzed his entire body, except his left eye. Using that eye to blink out his memoir, Bauby eloquently described the aspects of his interior world, from the psychological torment of being trapped inside his body to his imagined stories from lands he'd only visited in his mind. Let your imagination set you free\"\n        ],\n        \"semantic_type\": \"\",\n        \"description\": \"\"\n      }\n    }\n  ]\n}"
            }
          },
          "metadata": {},
          "execution_count": 77
        }
      ]
    },
    {
      "cell_type": "markdown",
      "source": [
        "# Bag of Words"
      ],
      "metadata": {
        "id": "L4eLW9wOQo_t"
      }
    },
    {
      "cell_type": "code",
      "source": [
        "from sklearn.feature_extraction.text import CountVectorizer\n",
        "cv = CountVectorizer(max_features = 15000, stop_words = \"english\")"
      ],
      "metadata": {
        "id": "WkJP7egVs112"
      },
      "execution_count": null,
      "outputs": []
    },
    {
      "cell_type": "code",
      "source": [
        "vector = cv.fit_transform(new_df['tags']).toarray()"
      ],
      "metadata": {
        "colab": {
          "base_uri": "https://localhost:8080/"
        },
        "id": "TlfnBLSjwLZ9",
        "outputId": "20592870-2e2e-46a6-9795-3fe62dfff827"
      },
      "execution_count": null,
      "outputs": [
        {
          "output_type": "execute_result",
          "data": {
            "text/plain": [
              "array([[0, 0, 0, ..., 0, 0, 0],\n",
              "       [0, 0, 0, ..., 0, 0, 0],\n",
              "       [0, 0, 0, ..., 0, 0, 0],\n",
              "       ...,\n",
              "       [0, 0, 0, ..., 0, 0, 0],\n",
              "       [0, 0, 0, ..., 0, 0, 0],\n",
              "       [0, 0, 0, ..., 0, 0, 0]])"
            ]
          },
          "metadata": {},
          "execution_count": 56
        }
      ]
    },
    {
      "cell_type": "code",
      "source": [
        "temp = new_df.drop(columns = ['id', 'title', 'tags', 'cast']).values"
      ],
      "metadata": {
        "colab": {
          "base_uri": "https://localhost:8080/"
        },
        "id": "Hp5RvwxfwW85",
        "outputId": "8ded6e20-20fc-482b-fd30-08e9a2019ce6"
      },
      "execution_count": null,
      "outputs": [
        {
          "output_type": "execute_result",
          "data": {
            "text/plain": [
              "array([[5.39596345e-08, 7.17369098e-10, 1.00000000e+00, ...,\n",
              "        2.35766941e-05, 3.11732741e-06, 3.66037582e-06],\n",
              "       [1.44726967e-07, 2.08116545e-09, 1.00000000e+00, ...,\n",
              "        8.84495317e-08, 1.18626431e-07, 1.20707596e-07],\n",
              "       [1.21925608e-07, 2.27098631e-09, 9.99999990e-01, ...,\n",
              "        9.97417187e-06, 3.10205375e-05, 1.37995348e-04],\n",
              "       ...,\n",
              "       [1.18291799e-06, 1.63785067e-06, 0.00000000e+00, ...,\n",
              "        9.71818693e-03, 2.85927780e-02, 4.78195070e-02],\n",
              "       [2.79249188e-06, 6.51683969e-06, 0.00000000e+00, ...,\n",
              "        2.67493460e-01, 6.84431089e-01, 6.68953595e-03],\n",
              "       [1.38219508e-05, 1.43241335e-05, 0.00000000e+00, ...,\n",
              "        4.98458358e-01, 6.12807915e-01, 2.17297105e-02]])"
            ]
          },
          "metadata": {},
          "execution_count": 58
        }
      ]
    },
    {
      "cell_type": "code",
      "source": [
        "final_vector = np.concatenate((vector, temp), axis = 1)"
      ],
      "metadata": {
        "id": "oNIYfgYNxGaL"
      },
      "execution_count": null,
      "outputs": []
    },
    {
      "cell_type": "code",
      "source": [
        "from sklearn.metrics.pairwise import cosine_similarity"
      ],
      "metadata": {
        "id": "_J4uwbG8xpnP"
      },
      "execution_count": null,
      "outputs": []
    },
    {
      "cell_type": "code",
      "source": [
        "similarity = cosine_similarity(final_vector)"
      ],
      "metadata": {
        "id": "jZ5QGizTFP_m"
      },
      "execution_count": null,
      "outputs": []
    },
    {
      "cell_type": "code",
      "source": [
        "similarity"
      ],
      "metadata": {
        "colab": {
          "base_uri": "https://localhost:8080/"
        },
        "id": "vwM2BX6vFZBn",
        "outputId": "9974af17-460c-483b-a91f-21765e42ec30"
      },
      "execution_count": null,
      "outputs": [
        {
          "output_type": "execute_result",
          "data": {
            "text/plain": [
              "array([[1.00000000e+00, 1.15242196e-01, 6.18170833e-02, ...,\n",
              "        7.50058784e-02, 1.35445903e-02, 2.03231317e-07],\n",
              "       [1.15242196e-01, 1.00000000e+00, 7.03488720e-02, ...,\n",
              "        7.11316253e-02, 3.08276782e-02, 1.61311501e-02],\n",
              "       [6.18170833e-02, 7.03488720e-02, 1.00000000e+00, ...,\n",
              "        3.05246862e-02, 4.10969352e-07, 4.67379226e-07],\n",
              "       ...,\n",
              "       [7.50058784e-02, 7.11316253e-02, 3.05246862e-02, ...,\n",
              "        1.00000000e+00, 4.94866738e-02, 5.08884666e-02],\n",
              "       [1.35445903e-02, 3.08276782e-02, 4.10969352e-07, ...,\n",
              "        4.94866738e-02, 1.00000000e+00, 9.05255580e-02],\n",
              "       [2.03231317e-07, 1.61311501e-02, 4.67379226e-07, ...,\n",
              "        5.08884666e-02, 9.05255580e-02, 1.00000000e+00]])"
            ]
          },
          "metadata": {},
          "execution_count": 63
        }
      ]
    },
    {
      "cell_type": "code",
      "source": [
        "def recommend(movie):\n",
        "    index = new_df[new_df['title'] == movie].index[0]\n",
        "    distances = sorted(list(enumerate(similarity[index])),reverse=True,key = lambda x: x[1])\n",
        "    for i in distances[1:20]:\n",
        "        print(new_df.iloc[i[0]].title)"
      ],
      "metadata": {
        "id": "V3KdNw79Ibtz"
      },
      "execution_count": null,
      "outputs": []
    },
    {
      "cell_type": "code",
      "source": [
        "recommend(\"Ramanujan\")"
      ],
      "metadata": {
        "colab": {
          "base_uri": "https://localhost:8080/"
        },
        "id": "_eQSSqIgI6gc",
        "outputId": "6d14d95e-7b7f-492f-f347-503df3974bb7"
      },
      "execution_count": null,
      "outputs": [
        {
          "output_type": "stream",
          "name": "stdout",
          "text": [
            "A Beautiful Mind\n",
            "Good Will Hunting\n",
            "The R.M.\n",
            "I Origins\n",
            "Three Kingdoms: Resurrection of the Dragon\n",
            "Mr. Peabody & Sherman\n",
            "I Come with the Rain\n",
            "1982\n",
            "School for Scoundrels\n",
            "City By The Sea\n",
            "Love Happens\n",
            "Le Havre\n",
            "Forsaken\n",
            "Interview with the Assassin\n",
            "Shine\n",
            "Mr. Turner\n",
            "Dil Jo Bhi Kahey...\n",
            "Son of God\n",
            "Blood and Wine\n"
          ]
        }
      ]
    },
    {
      "cell_type": "code",
      "source": [
        "import pickle"
      ],
      "metadata": {
        "id": "7UGlRKqbumDP"
      },
      "execution_count": null,
      "outputs": []
    },
    {
      "cell_type": "code",
      "source": [
        "pickle.dump(df, open('movie_list.pkl','wb'))\n",
        "pickle.dump(similarity, open('similarity.pkl', 'wb'))"
      ],
      "metadata": {
        "id": "lBoCaw9JwcQ-"
      },
      "execution_count": null,
      "outputs": []
    },
    {
      "cell_type": "code",
      "source": [],
      "metadata": {
        "id": "iDclU9LKxfM2"
      },
      "execution_count": null,
      "outputs": []
    }
  ]
}